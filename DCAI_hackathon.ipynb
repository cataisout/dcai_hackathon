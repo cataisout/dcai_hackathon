{
  "nbformat": 4,
  "nbformat_minor": 0,
  "metadata": {
    "colab": {
      "provenance": []
    },
    "kernelspec": {
      "name": "python3",
      "display_name": "Python 3"
    },
    "language_info": {
      "name": "python"
    }
  },
  "cells": [
    {
      "cell_type": "code",
      "execution_count": null,
      "metadata": {
        "id": "H1aPwO9if__1"
      },
      "outputs": [],
      "source": [
        "import pandas as pd\n",
        "import requests\n",
        "import io\n",
        "# Download the dataset from the provided URL\n",
        "url_train = 'https://public.jacob.al/imd3011-datacentric_ai/hackathon-2025-2/train_no_labels.json.gz'\n",
        "url_valid = 'https://public.jacob.al/imd3011-datacentric_ai/hackathon-2025-2/valid.json.gz'\n",
        "\n",
        "response_train = requests.get(url_train)\n",
        "response_valid = requests.get(url_valid)\n",
        "\n",
        "# Read the JSON data into pandas DataFrames\n",
        "train_data = pd.read_json(io.BytesIO(response_train.content), compression='gzip')\n",
        "valid_data = pd.read_json(io.BytesIO(response_valid.content), compression='gzip')"
      ]
    },
    {
      "cell_type": "code",
      "source": [
        "import numpy as np\n",
        "\n",
        "train_data['image_array'] = train_data['image'].apply(lambda x: np.array(x, dtype=np.uint8))"
      ],
      "metadata": {
        "id": "EFjsdifwhVUe"
      },
      "execution_count": null,
      "outputs": []
    },
    {
      "cell_type": "code",
      "source": [
        "valid_data['image_array'] = valid_data['image'].apply(lambda x: np.array(x, dtype=np.uint8))"
      ],
      "metadata": {
        "id": "XGfJdneelpFm"
      },
      "execution_count": null,
      "outputs": []
    },
    {
      "cell_type": "code",
      "source": [
        "from PIL import Image\n",
        "\n",
        "def resize_image(img_array, size=(128, 128)):\n",
        "    pil_img = Image.fromarray(img_array)\n",
        "    return np.array(pil_img.resize(size))\n",
        "\n",
        "train_data['image_resized'] = train_data['image_array'].apply(lambda x: resize_image(x))"
      ],
      "metadata": {
        "id": "Ie9UiyxuhaSV"
      },
      "execution_count": null,
      "outputs": []
    },
    {
      "cell_type": "code",
      "source": [
        "valid_data['image_resized'] = valid_data['image_array'].apply(lambda x: resize_image(x))"
      ],
      "metadata": {
        "id": "TtoCN9xgluuD"
      },
      "execution_count": null,
      "outputs": []
    },
    {
      "cell_type": "code",
      "source": [
        "train_data.image_resized[0]"
      ],
      "metadata": {
        "colab": {
          "base_uri": "https://localhost:8080/",
          "height": 168
        },
        "id": "z7stPg6whjla",
        "outputId": "ca4f3cf7-72f0-4699-fa96-a651726c07cf"
      },
      "execution_count": null,
      "outputs": [
        {
          "output_type": "execute_result",
          "data": {
            "text/plain": [
              "array([[255, 255, 255, ..., 255, 255, 255],\n",
              "       [255, 255, 255, ..., 255, 255, 255],\n",
              "       [255, 255, 255, ..., 255, 255, 255],\n",
              "       ...,\n",
              "       [255, 255, 255, ..., 255, 255, 255],\n",
              "       [255, 255, 255, ..., 255, 255, 255],\n",
              "       [255, 255, 255, ..., 255, 255, 255]], dtype=uint8)"
            ],
            "text/html": [
              "<style>\n",
              "      .ndarray_repr .ndarray_raw_data {\n",
              "        display: none;\n",
              "      }\n",
              "      .ndarray_repr.show_array .ndarray_raw_data {\n",
              "        display: block;\n",
              "      }\n",
              "      .ndarray_repr.show_array .ndarray_image_preview {\n",
              "        display: none;\n",
              "      }\n",
              "      </style>\n",
              "      <div id=\"id-34a1c18f-138b-463e-bbcd-1e36656ef612\" class=\"ndarray_repr\"><pre>ndarray (128, 128) <button style=\"padding: 0 2px;\">show data</button></pre><img src=\"data:image/png;base64,iVBORw0KGgoAAAANSUhEUgAAAIAAAACACAAAAADmVT4XAAAE8ElEQVR4nO3aT2wVRRzA8e/Mvn1/2lLbvscfJRKjFQRShSZFTTBKYhQDGokYU6NCIB6MinoyxpOJxr8XL/gv0YPGRCgH/piISBDKARAMaCEoGFuC/JGqfUJf33u7s+OhpQWsZbuzZA7u7/JespmZz86/nZldobEb0nL5CSABJIAEkAASQAJIAAkgAdgHpIxSe91BIW8GMKuB0yseXWtWvmkTaON9jVkTZG4uTzEEiP/91sysCf4VwUEx8n/KpCsO2PB9CvBX7P1hKJ+/O0cAA8+svJKA7l0p+LIrBfg9/uGhfGR28DfwwuYTAXD0s6Mp6DshIV0HwC/UAehACgLtaXRDK1Smhskt3Cj4SwldKJV27HN5rPGl/RkN0hm85AdpKgGArm06U6axsCxNUGgJezthANWOz8vCX9J1RHlQI9VwEk86fmtNp1g4EcCfceemk8GCGU7YssMB+t88IrpdAVXHEYBG6EAFAGrO72cqTz9+kmvHVeTFcdk+0LM5TQYgA3g+oDOFe1oAVNvh16vZlEnxIWrg0DJ36J9OB20tQJB/YHj6ChBi9HRh47I1UL/gfJt6i2bkM5dcNZ9Ik2dB9Km4b7+cMNceQJ94ayezPrUH8FadrPcu7ZJRInIf0DE9yKMCRD6m4RMV4C7x4hlCkfMIQP55yiIAcI79aBeAjGEYRG8CDfKQRUBTTuNstwiYP00h/9htD6A1yNI7VWsANCAD0/INADkAw+WQCUAsrcYiiF4Dk2sCnFNb7QHmzJMa1petAXitxcPp8e0BUgJk8St7ADxAbjxrDzAPcH5T9gC3aUAfsweQKY3o32wPMH2VD2J8u/FYAbQJSG81W5cZAUStRpTMZmMjwLT5VYS/xx4AD9CbztkDLJbgdhl1AjNAS6sHjmeyLDEDZJsVOC/8bA2AAiiaTAVxbO/SHx+PkkyVSmXzGqgqkF9vi5L2wINLn9OmgCW35hVM+CDKJtErFs8a18ANq992FIL39o4/ra5UvDiO6T7qqAjKTe82jzdh9xqZXy5iOCd8flcOSu3PRhsLMYyCl5sVZL8J/YoidsDEp/oDRPknawBaH84Eon9DtAV6PGfFW15xdbqjPkrSeM6KmwV4XZGSxgOYentVVNZX7AHSk33Su3vtAVg528OJtDiMCdBwnxIDHRYBPHR3OSjaBMj7a2WkuTi+d0a9fu4qq4CIYf2llXVAzF9QAGd7JXxxfLBHqmaOqoWLx5ghDPvAzr255efP7CtiXa+E/QdTMPyGXRKoSWty/52DWQ34azszba17ihLYt8Pt9QA3A4yMSF+O/a3R+GtA/SrYtm8QXjnsqMZpB/sF4KT0ULFBVQOuo6ua4Po61fDGGC82xgEYgO/2pDi93Rn+gEq4oJR7cRP7E9rrgW+7atpzqLuaxs41PGDjapf+foFMj35dBWgA75ZXJwN4JacuRLbh+8DmvjTigt6kBw+qtaaqgWDK1fqJAqCuaQTADTcvhgEUP/Fob5ByZM7QFXQ22ydERmfSwSN5QM28MeSdXBxhmuD9DzM0OOeG1t0CdO5ex5910zr33JbS8hXURip5KMLUgJfJMuAvO6ABf+YiwL0O4EVoDwpGxYcDKA3IO54c5VK0ar8wwjwLZruePzB3unFZo0aoYdijhK4x/XLRBHAlw/rjOAEkgASQABJAAkgACSAB/APukovLaDazcgAAAABJRU5ErkJggg==\" class=\"ndarray_image_preview\" /><pre class=\"ndarray_raw_data\">array([[255, 255, 255, ..., 255, 255, 255],\n",
              "       [255, 255, 255, ..., 255, 255, 255],\n",
              "       [255, 255, 255, ..., 255, 255, 255],\n",
              "       ...,\n",
              "       [255, 255, 255, ..., 255, 255, 255],\n",
              "       [255, 255, 255, ..., 255, 255, 255],\n",
              "       [255, 255, 255, ..., 255, 255, 255]], dtype=uint8)</pre></div><script>\n",
              "      (() => {\n",
              "      const titles = ['show data', 'hide data'];\n",
              "      let index = 0\n",
              "      document.querySelector('#id-34a1c18f-138b-463e-bbcd-1e36656ef612 button').onclick = (e) => {\n",
              "        document.querySelector('#id-34a1c18f-138b-463e-bbcd-1e36656ef612').classList.toggle('show_array');\n",
              "        index = (++index) % 2;\n",
              "        document.querySelector('#id-34a1c18f-138b-463e-bbcd-1e36656ef612 button').textContent = titles[index];\n",
              "        e.preventDefault();\n",
              "        e.stopPropagation();\n",
              "      }\n",
              "      })();\n",
              "    </script>"
            ]
          },
          "metadata": {},
          "execution_count": 6
        }
      ]
    },
    {
      "cell_type": "code",
      "source": [
        "train_data['image_normalized'] = train_data['image_resized'].apply(lambda x: x / 255.0)"
      ],
      "metadata": {
        "id": "xmgEq0F9hsuL"
      },
      "execution_count": null,
      "outputs": []
    },
    {
      "cell_type": "code",
      "source": [
        "valid_data['image_normalized'] = valid_data['image_resized'].apply(lambda x: x / 255.0)"
      ],
      "metadata": {
        "id": "hHMgvjmXlzVH"
      },
      "execution_count": null,
      "outputs": []
    },
    {
      "cell_type": "code",
      "source": [
        "import torch\n",
        "import torchvision.transforms as T\n",
        "from torchvision.models import resnet18\n",
        "\n",
        "transform = T.Compose([\n",
        "    T.ToPILImage(),\n",
        "    T.Resize((224, 224)),\n",
        "    T.ToTensor(),\n",
        "])\n",
        "\n",
        "model = resnet18(pretrained=True)\n",
        "model = torch.nn.Sequential(*list(model.children())[:-1])  # Remove camada final (classificação)\n",
        "model.eval()\n",
        "\n",
        "def get_embedding(image_np):\n",
        "    if image_np.ndim == 2:  # escala de cinza\n",
        "        image_np = np.stack([image_np] * 3, axis=-1)\n",
        "\n",
        "    img_tensor = transform(image_np).unsqueeze(0)  # shape: [1, 3, 224, 224]\n",
        "    with torch.no_grad():\n",
        "        embedding = model(img_tensor).squeeze().numpy()\n",
        "    return embedding\n"
      ],
      "metadata": {
        "id": "5tu8hGVihtJR",
        "colab": {
          "base_uri": "https://localhost:8080/"
        },
        "outputId": "6bf44d17-9500-4316-8d64-f4565b022104"
      },
      "execution_count": null,
      "outputs": [
        {
          "output_type": "stream",
          "name": "stderr",
          "text": [
            "/usr/local/lib/python3.11/dist-packages/torchvision/models/_utils.py:208: UserWarning: The parameter 'pretrained' is deprecated since 0.13 and may be removed in the future, please use 'weights' instead.\n",
            "  warnings.warn(\n",
            "/usr/local/lib/python3.11/dist-packages/torchvision/models/_utils.py:223: UserWarning: Arguments other than a weight enum or `None` for 'weights' are deprecated since 0.13 and may be removed in the future. The current behavior is equivalent to passing `weights=ResNet18_Weights.IMAGENET1K_V1`. You can also use `weights=ResNet18_Weights.DEFAULT` to get the most up-to-date weights.\n",
            "  warnings.warn(msg)\n",
            "Downloading: \"https://download.pytorch.org/models/resnet18-f37072fd.pth\" to /root/.cache/torch/hub/checkpoints/resnet18-f37072fd.pth\n",
            "100%|██████████| 44.7M/44.7M [00:00<00:00, 213MB/s]\n"
          ]
        }
      ]
    },
    {
      "cell_type": "code",
      "source": [
        "from tqdm import tqdm\n",
        "tqdm.pandas()"
      ],
      "metadata": {
        "id": "afOCzSY4jjJ4"
      },
      "execution_count": 6,
      "outputs": []
    },
    {
      "cell_type": "code",
      "source": [
        "train_data['embedding'] = train_data['image_array'].progress_apply(get_embedding)\n",
        "X_embedded = np.stack(train_data['embedding'].values)"
      ],
      "metadata": {
        "colab": {
          "base_uri": "https://localhost:8080/"
        },
        "id": "IMMN6vTQjjuh",
        "outputId": "98c3b6cf-5e6e-4b0d-d2a6-82f5306fc68b"
      },
      "execution_count": null,
      "outputs": [
        {
          "output_type": "stream",
          "name": "stderr",
          "text": [
            "100%|██████████| 2406/2406 [02:26<00:00, 16.40it/s]\n"
          ]
        }
      ]
    },
    {
      "cell_type": "code",
      "source": [
        "valid_data['embedding'] = valid_data['image_array'].progress_apply(get_embedding)"
      ],
      "metadata": {
        "colab": {
          "base_uri": "https://localhost:8080/"
        },
        "id": "fQmNg1Chl5Hg",
        "outputId": "62736615-f5e7-40d2-d908-3c00ab2fc80f"
      },
      "execution_count": null,
      "outputs": [
        {
          "output_type": "stream",
          "name": "stderr",
          "text": [
            "100%|██████████| 425/425 [00:25<00:00, 16.95it/s]\n"
          ]
        }
      ]
    },
    {
      "cell_type": "code",
      "source": [
        "train_data.to_pickle('train_data_embeddings.pkl')"
      ],
      "metadata": {
        "id": "1fzkHaWMkW2S"
      },
      "execution_count": null,
      "outputs": []
    },
    {
      "cell_type": "code",
      "source": [
        "valid_data.to_pickle('valid_data_embeddings.pkl')"
      ],
      "metadata": {
        "id": "mtvQNSTQl8lo"
      },
      "execution_count": null,
      "outputs": []
    },
    {
      "cell_type": "markdown",
      "source": [
        "## UMAP - for a visual analysis"
      ],
      "metadata": {
        "id": "y9qJi2Lnoj9Y"
      }
    },
    {
      "cell_type": "code",
      "source": [
        "! pip -q install cleanlab"
      ],
      "metadata": {
        "id": "d9xfvT7oYghz",
        "colab": {
          "base_uri": "https://localhost:8080/"
        },
        "outputId": "c1738725-0505-460c-ee11-a7d0a6996d89"
      },
      "execution_count": 15,
      "outputs": [
        {
          "output_type": "stream",
          "name": "stdout",
          "text": [
            "\u001b[2K     \u001b[90m━━━━━━━━━━━━━━━━━━━━━━━━━━━━━━━━━━━━━━━━\u001b[0m \u001b[32m60.7/60.7 kB\u001b[0m \u001b[31m3.1 MB/s\u001b[0m eta \u001b[36m0:00:00\u001b[0m\n",
            "\u001b[2K     \u001b[90m━━━━━━━━━━━━━━━━━━━━━━━━━━━━━━━━━━━━━━━━\u001b[0m \u001b[32m61.0/61.0 kB\u001b[0m \u001b[31m4.2 MB/s\u001b[0m eta \u001b[36m0:00:00\u001b[0m\n",
            "\u001b[2K   \u001b[90m━━━━━━━━━━━━━━━━━━━━━━━━━━━━━━━━━━━━━━━━\u001b[0m \u001b[32m349.8/349.8 kB\u001b[0m \u001b[31m15.4 MB/s\u001b[0m eta \u001b[36m0:00:00\u001b[0m\n",
            "\u001b[2K   \u001b[90m━━━━━━━━━━━━━━━━━━━━━━━━━━━━━━━━━━━━━━━━\u001b[0m \u001b[32m18.3/18.3 MB\u001b[0m \u001b[31m76.2 MB/s\u001b[0m eta \u001b[36m0:00:00\u001b[0m\n",
            "\u001b[?25h\u001b[31mERROR: pip's dependency resolver does not currently take into account all the packages that are installed. This behaviour is the source of the following dependency conflicts.\n",
            "thinc 8.3.6 requires numpy<3.0.0,>=2.0.0, but you have numpy 1.26.4 which is incompatible.\u001b[0m\u001b[31m\n",
            "\u001b[0m"
          ]
        }
      ]
    },
    {
      "cell_type": "code",
      "source": [
        "from google.colab import drive\n",
        "drive.mount('/content/drive')"
      ],
      "metadata": {
        "id": "IOUus0p1g_w6",
        "colab": {
          "base_uri": "https://localhost:8080/"
        },
        "outputId": "f21d4452-b084-429d-818f-a17168ffcd6c"
      },
      "execution_count": 10,
      "outputs": [
        {
          "output_type": "stream",
          "name": "stdout",
          "text": [
            "Drive already mounted at /content/drive; to attempt to forcibly remount, call drive.mount(\"/content/drive\", force_remount=True).\n"
          ]
        }
      ]
    },
    {
      "cell_type": "code",
      "source": [
        "from sklearn.manifold import TSNE\n",
        "import matplotlib.pyplot as plt\n",
        "import seaborn as sns\n",
        "import pandas as pd\n",
        "import numpy as np"
      ],
      "metadata": {
        "id": "d7RC_mUZp2fP"
      },
      "execution_count": 3,
      "outputs": []
    },
    {
      "cell_type": "code",
      "source": [
        "train_data = pd.read_pickle('/content/drive/MyDrive/EliasProj2/train_data_embeddings.pkl')\n",
        "valid_data = pd.read_pickle('/content/drive/MyDrive/EliasProj2/valid_data_embeddings.pkl')"
      ],
      "metadata": {
        "id": "2_CJfACXp8OV"
      },
      "execution_count": 5,
      "outputs": []
    },
    {
      "cell_type": "code",
      "source": [
        "def parse_embedding(s):\n",
        "    return np.fromstring(s.strip(\"[]\"), sep=' ')"
      ],
      "metadata": {
        "id": "HaN4baj2qzm3"
      },
      "execution_count": 6,
      "outputs": []
    },
    {
      "cell_type": "code",
      "source": [
        "import umap.umap_ as umap"
      ],
      "metadata": {
        "id": "MsTupWUu1lOv"
      },
      "execution_count": 7,
      "outputs": []
    },
    {
      "cell_type": "code",
      "source": [
        "# X_embedded:  matriz de embeddings (shape [n amostras, 512])\n",
        "X_embedded = np.stack(train_data['embedding'].values)\n",
        "\n",
        "reducer = umap.UMAP(n_components=2, random_state=42)\n",
        "X_2d = reducer.fit_transform(X_embedded)\n",
        "\n",
        "# Adiciona ao DataFrame para visualização\n",
        "train_data['umap_1'] = X_2d[:, 0]\n",
        "train_data['umap_2'] = X_2d[:, 1]"
      ],
      "metadata": {
        "id": "OiLWw0uWoQ_U",
        "colab": {
          "base_uri": "https://localhost:8080/"
        },
        "outputId": "d50c648d-514f-4584-804d-be33d06da052"
      },
      "execution_count": 8,
      "outputs": [
        {
          "output_type": "stream",
          "name": "stderr",
          "text": [
            "/usr/local/lib/python3.11/dist-packages/sklearn/utils/deprecation.py:151: FutureWarning: 'force_all_finite' was renamed to 'ensure_all_finite' in 1.6 and will be removed in 1.8.\n",
            "  warnings.warn(\n",
            "/usr/local/lib/python3.11/dist-packages/umap/umap_.py:1952: UserWarning: n_jobs value 1 overridden to 1 by setting random_state. Use no seed for parallelism.\n",
            "  warn(\n"
          ]
        }
      ]
    },
    {
      "cell_type": "code",
      "source": [
        "plt.figure(figsize=(5, 4))\n",
        "sns.scatterplot(\n",
        "    data=train_data,\n",
        "    x='umap_1',\n",
        "    y='umap_2',\n",
        "    hue='label',\n",
        "    palette='tab10',\n",
        "    alpha=0.7\n",
        ")\n",
        "plt.title('UMAP dos Embeddings')\n",
        "plt.legend(bbox_to_anchor=(1.05, 1), loc='upper left')\n",
        "plt.show()"
      ],
      "metadata": {
        "id": "-FRz_gjfosKu",
        "colab": {
          "base_uri": "https://localhost:8080/",
          "height": 410
        },
        "outputId": "3518d68c-ace5-4dbe-ecd5-8c5a96a3359a"
      },
      "execution_count": 9,
      "outputs": [
        {
          "output_type": "display_data",
          "data": {
            "text/plain": [
              "<Figure size 500x400 with 1 Axes>"
            ],
            "image/png": "[encoded data removed]"
          },
          "metadata": {}
        }
      ]
    },
    {
      "cell_type": "code",
      "source": [
        "X = train_data.drop(columns='label')\n",
        "y = train_data['label'].values"
      ],
      "metadata": {
        "id": "XMpzcn60otCw"
      },
      "execution_count": 7,
      "outputs": []
    },
    {
      "cell_type": "code",
      "source": [
        "from sklearn.model_selection import train_test_split\n",
        "\n",
        "X_train, X_test, y_train, y_test = train_test_split(\n",
        "    X, y, test_size=0.2, stratify=y, random_state=42\n",
        ")"
      ],
      "metadata": {
        "id": "rBhuNDPqsvdg"
      },
      "execution_count": 8,
      "outputs": []
    },
    {
      "cell_type": "code",
      "source": [
        "from sklearn.svm import SVC\n",
        "from sklearn.linear_model import LogisticRegression\n",
        "from sklearn.neural_network import MLPClassifier\n",
        "\n",
        "svc = SVC(gamma='auto', probability=True, random_state=42)\n",
        "lr_model = LogisticRegression(random_state=42)\n",
        "mlp = MLPClassifier(random_state=42)"
      ],
      "metadata": {
        "id": "vbLnmIRANSy6"
      },
      "execution_count": 9,
      "outputs": []
    },
    {
      "cell_type": "code",
      "source": [
        "from sklearn.ensemble import StackingClassifier\n",
        "\n",
        "stacked = StackingClassifier(\n",
        "    estimators=[\n",
        "        ('svc', svc),\n",
        "        ('lr', lr_model),\n",
        "        ('mlp', mlp)\n",
        "    ],\n",
        "    final_estimator=LogisticRegression(max_iter=200),\n",
        "    passthrough=True,\n",
        "    cv=5\n",
        ")"
      ],
      "metadata": {
        "id": "OlrVIq2lNldJ"
      },
      "execution_count": 10,
      "outputs": []
    },
    {
      "cell_type": "code",
      "source": [
        "from sklearn.preprocessing import LabelEncoder\n",
        "\n",
        "le = LabelEncoder()\n",
        "y_train = le.fit_transform(y_train)\n",
        "y_test = le.transform(y_test)"
      ],
      "metadata": {
        "id": "1vEOcJFZOay8"
      },
      "execution_count": 11,
      "outputs": []
    },
    {
      "cell_type": "code",
      "source": [
        "from sklearn.model_selection import cross_val_score\n",
        "from sklearn.metrics import matthews_corrcoef, make_scorer\n",
        "import numpy as np\n",
        "\n",
        "# MCC como scorer\n",
        "mcc_scorer = make_scorer(matthews_corrcoef)\n",
        "\n",
        "scores = cross_val_score(\n",
        "    estimator=stacked,\n",
        "    X=np.stack(X_train.embedding),\n",
        "    y=y_train,\n",
        "    cv=5,\n",
        "    scoring=mcc_scorer\n",
        ")"
      ],
      "metadata": {
        "id": "xPDaXCMSsR6x"
      },
      "execution_count": 13,
      "outputs": []
    },
    {
      "cell_type": "code",
      "source": [
        "print(scores)"
      ],
      "metadata": {
        "colab": {
          "base_uri": "https://localhost:8080/"
        },
        "id": "DjWNEZfkxcw_",
        "outputId": "1ad21ab4-ece9-4bd0-ea75-fce4068582ce"
      },
      "execution_count": 15,
      "outputs": [
        {
          "output_type": "stream",
          "name": "stdout",
          "text": [
            "[0.74334607 0.71488419 0.66791573 0.70858511 0.73930898]\n"
          ]
        }
      ]
    },
    {
      "cell_type": "code",
      "source": [
        "from sklearn.model_selection import cross_val_predict\n",
        "\n",
        "pred_probs = cross_val_predict(\n",
        "    estimator=stacked,\n",
        "    X=np.stack(X.embedding),\n",
        "    y=y,\n",
        "    cv=5,\n",
        "    method='predict_proba',\n",
        "    n_jobs=-1\n",
        ")"
      ],
      "metadata": {
        "id": "ytmCYKZ1N_3h"
      },
      "execution_count": 16,
      "outputs": []
    },
    {
      "cell_type": "code",
      "source": [
        "from cleanlab.filter import find_label_issues\n",
        "\n",
        "\n",
        "y = le.transform(y)\n",
        "\n",
        "issues = find_label_issues(\n",
        "    labels=y,\n",
        "    pred_probs=pred_probs,\n",
        "    return_indices_ranked_by='self_confidence'  # ordena os mais suspeitos no topo\n",
        ")"
      ],
      "metadata": {
        "id": "-8sOfIZJQOVh"
      },
      "execution_count": 18,
      "outputs": []
    },
    {
      "cell_type": "code",
      "source": [
        "issues"
      ],
      "metadata": {
        "colab": {
          "base_uri": "https://localhost:8080/"
        },
        "id": "IsGcU50b7yhw",
        "outputId": "1d43167c-3abe-4057-dc6c-40ab9d819c48"
      },
      "execution_count": 27,
      "outputs": [
        {
          "output_type": "execute_result",
          "data": {
            "text/plain": [
              "array([ 313, 2155,  411, 2253, 1179,  345,  602,  137, 1458, 2056,  286,\n",
              "       1545,  282,  807,  761,  154, 2188,   91, 1064,   77, 1895, 1988,\n",
              "        889,  869, 1339, 1152, 1570, 1246,  587, 2163,  927,  463, 1882,\n",
              "          6, 2335,  667, 1940, 2034,  227, 1365,  441, 1181, 1838,  715,\n",
              "       1949,  327,  199, 1779,  166,  378, 1350,  388, 1666, 1223,  176,\n",
              "        206,  162,  948, 1852,  390, 1445, 1210,  284, 1119, 1914, 1725,\n",
              "       1871, 1760, 2055,  281,  534,  139,  429,  899,  537, 1941,  543,\n",
              "       2040, 1186,  503, 1519, 1851, 1358,  146, 1787, 2377,  478, 1446,\n",
              "       1175,  874, 1146,  929,  666,  333, 2021,  539,   81,  770, 1995,\n",
              "       1351, 1798,  354,    4, 2371,  704, 1262,   60,  210,  991,  981,\n",
              "       1984, 1599, 2238, 1729, 1163,  144, 1114, 1467,  905, 2209, 2147,\n",
              "        676, 1676, 2293, 1981,   78, 2298, 2303,  760,   50,   27, 2318,\n",
              "        882, 2362,  412, 2255, 1319,  771, 2158,  783,  431,  718, 1662,\n",
              "        136,  118, 1400, 1854,  939, 1886, 2208, 1451, 1815,  343,  443,\n",
              "        606,  603,  323,  399,   54,  358, 2067, 1637,  417,  127,  635,\n",
              "       1899, 1472, 1241,  518, 1504, 1062,  974, 1033,  244, 1741, 2157,\n",
              "        937,  801, 1422,  826, 1559,  366, 1648, 1669,  404,   53,  689,\n",
              "       1176,  460,  451, 1891, 1642,  853, 1561, 2290, 1438,  156, 1620,\n",
              "       1011, 1036,   32, 2289, 1864, 1056, 2039, 1457, 1211, 1874, 1911,\n",
              "       2225,  849,  611,  203, 1826, 1968, 1415,  251, 1952, 1985,  730,\n",
              "        898, 1795, 1287,  185, 1759, 2033, 1430,  917, 1858,  578, 1354,\n",
              "        812, 1781,  625,  558,  482, 1015, 1675, 2094, 2172, 1558, 1134,\n",
              "       1935, 1405, 2333, 2390, 1734,  113, 1340,  784, 2120, 2176,  442,\n",
              "       1801, 1581,  407, 1048,  775, 1730, 1750,  739, 1286, 1963,  280,\n",
              "       2066, 1820, 2320, 2001, 1591, 2382,  471, 1860, 1611, 2391, 1254,\n",
              "       1560, 1633, 1768, 2063,  750, 1650,  530,  194,  712, 2100,  765,\n",
              "       1091,  256, 1000, 1465,  924, 1613, 1394,   56, 1512,  700, 1099,\n",
              "       1110, 1647,  804, 2211,  222, 1667, 2013, 1482,  265,  149, 1303,\n",
              "       2257, 2340,   65, 1976,  817,  414,  897, 1788, 1342,  435, 1153,\n",
              "       1065, 1066,  267, 1148, 1681,  612,  347, 2183,  512,  912,  727,\n",
              "        514, 1132, 1409, 2041, 2015, 1802,  215,  954, 2007, 1038,  513,\n",
              "       1683, 1203, 1593,  307, 2125,  619, 1905, 1597,  691,  562,  976,\n",
              "       1150,  780, 1825, 1508, 2071, 1386, 2182, 1979,   94, 2201, 2291,\n",
              "       2292, 2331,  685, 1625, 1440, 1424,  396, 1957,  681,  387, 1258,\n",
              "       1931,  315,  131,  643,   96,  175, 2045,  923, 2113,  799, 1256,\n",
              "       1811, 1700,  618, 1753])"
            ]
          },
          "metadata": {},
          "execution_count": 27
        }
      ]
    },
    {
      "cell_type": "code",
      "source": [
        "(len(issues) / len(y) )* 100"
      ],
      "metadata": {
        "id": "jbeQPdAtV_rg",
        "colab": {
          "base_uri": "https://localhost:8080/"
        },
        "outputId": "7c77c2b3-b15d-43a0-cb7d-553e96f65f46"
      },
      "execution_count": 24,
      "outputs": [
        {
          "output_type": "execute_result",
          "data": {
            "text/plain": [
              "16.167913549459684"
            ]
          },
          "metadata": {},
          "execution_count": 24
        }
      ]
    },
    {
      "cell_type": "code",
      "source": [
        "label_info = pd.DataFrame({'label': y})\n",
        "label_info['noisy'] = False\n",
        "label_info.loc[issues, 'noisy'] = True\n"
      ],
      "metadata": {
        "id": "J1ZCPjQuzZZ9"
      },
      "execution_count": 25,
      "outputs": []
    },
    {
      "cell_type": "code",
      "source": [
        "label_info"
      ],
      "metadata": {
        "colab": {
          "base_uri": "https://localhost:8080/",
          "height": 423
        },
        "id": "ghAQJSM-7pqq",
        "outputId": "927c9781-dbeb-43b2-f530-d67b0040dfbf"
      },
      "execution_count": 26,
      "outputs": [
        {
          "output_type": "execute_result",
          "data": {
            "text/plain": [
              "      label  noisy\n",
              "0         0  False\n",
              "1         7  False\n",
              "2         1  False\n",
              "3         4  False\n",
              "4         1   True\n",
              "...     ...    ...\n",
              "2401      4  False\n",
              "2402      0  False\n",
              "2403      5  False\n",
              "2404      8  False\n",
              "2405      2  False\n",
              "\n",
              "[2406 rows x 2 columns]"
            ],
            "text/html": [
              "\n",
              "  <div id=\"df-0a539c65-9955-4e91-aa52-08b3ac823831\" class=\"colab-df-container\">\n",
              "    <div>\n",
              "<style scoped>\n",
              "    .dataframe tbody tr th:only-of-type {\n",
              "        vertical-align: middle;\n",
              "    }\n",
              "\n",
              "    .dataframe tbody tr th {\n",
              "        vertical-align: top;\n",
              "    }\n",
              "\n",
              "    .dataframe thead th {\n",
              "        text-align: right;\n",
              "    }\n",
              "</style>\n",
              "<table border=\"1\" class=\"dataframe\">\n",
              "  <thead>\n",
              "    <tr style=\"text-align: right;\">\n",
              "      <th></th>\n",
              "      <th>label</th>\n",
              "      <th>noisy</th>\n",
              "    </tr>\n",
              "  </thead>\n",
              "  <tbody>\n",
              "    <tr>\n",
              "      <th>0</th>\n",
              "      <td>0</td>\n",
              "      <td>False</td>\n",
              "    </tr>\n",
              "    <tr>\n",
              "      <th>1</th>\n",
              "      <td>7</td>\n",
              "      <td>False</td>\n",
              "    </tr>\n",
              "    <tr>\n",
              "      <th>2</th>\n",
              "      <td>1</td>\n",
              "      <td>False</td>\n",
              "    </tr>\n",
              "    <tr>\n",
              "      <th>3</th>\n",
              "      <td>4</td>\n",
              "      <td>False</td>\n",
              "    </tr>\n",
              "    <tr>\n",
              "      <th>4</th>\n",
              "      <td>1</td>\n",
              "      <td>True</td>\n",
              "    </tr>\n",
              "    <tr>\n",
              "      <th>...</th>\n",
              "      <td>...</td>\n",
              "      <td>...</td>\n",
              "    </tr>\n",
              "    <tr>\n",
              "      <th>2401</th>\n",
              "      <td>4</td>\n",
              "      <td>False</td>\n",
              "    </tr>\n",
              "    <tr>\n",
              "      <th>2402</th>\n",
              "      <td>0</td>\n",
              "      <td>False</td>\n",
              "    </tr>\n",
              "    <tr>\n",
              "      <th>2403</th>\n",
              "      <td>5</td>\n",
              "      <td>False</td>\n",
              "    </tr>\n",
              "    <tr>\n",
              "      <th>2404</th>\n",
              "      <td>8</td>\n",
              "      <td>False</td>\n",
              "    </tr>\n",
              "    <tr>\n",
              "      <th>2405</th>\n",
              "      <td>2</td>\n",
              "      <td>False</td>\n",
              "    </tr>\n",
              "  </tbody>\n",
              "</table>\n",
              "<p>2406 rows × 2 columns</p>\n",
              "</div>\n",
              "    <div class=\"colab-df-buttons\">\n",
              "\n",
              "  <div class=\"colab-df-container\">\n",
              "    <button class=\"colab-df-convert\" onclick=\"convertToInteractive('df-0a539c65-9955-4e91-aa52-08b3ac823831')\"\n",
              "            title=\"Convert this dataframe to an interactive table.\"\n",
              "            style=\"display:none;\">\n",
              "\n",
              "  <svg xmlns=\"http://www.w3.org/2000/svg\" height=\"24px\" viewBox=\"0 -960 960 960\">\n",
              "    <path d=\"M120-120v-720h720v720H120Zm60-500h600v-160H180v160Zm220 220h160v-160H400v160Zm0 220h160v-160H400v160ZM180-400h160v-160H180v160Zm440 0h160v-160H620v160ZM180-180h160v-160H180v160Zm440 0h160v-160H620v160Z\"/>\n",
              "  </svg>\n",
              "    </button>\n",
              "\n",
              "  <style>\n",
              "    .colab-df-container {\n",
              "      display:flex;\n",
              "      gap: 12px;\n",
              "    }\n",
              "\n",
              "    .colab-df-convert {\n",
              "      background-color: #E8F0FE;\n",
              "      border: none;\n",
              "      border-radius: 50%;\n",
              "      cursor: pointer;\n",
              "      display: none;\n",
              "      fill: #1967D2;\n",
              "      height: 32px;\n",
              "      padding: 0 0 0 0;\n",
              "      width: 32px;\n",
              "    }\n",
              "\n",
              "    .colab-df-convert:hover {\n",
              "      background-color: #E2EBFA;\n",
              "      box-shadow: 0px 1px 2px rgba(60, 64, 67, 0.3), 0px 1px 3px 1px rgba(60, 64, 67, 0.15);\n",
              "      fill: #174EA6;\n",
              "    }\n",
              "\n",
              "    .colab-df-buttons div {\n",
              "      margin-bottom: 4px;\n",
              "    }\n",
              "\n",
              "    [theme=dark] .colab-df-convert {\n",
              "      background-color: #3B4455;\n",
              "      fill: #D2E3FC;\n",
              "    }\n",
              "\n",
              "    [theme=dark] .colab-df-convert:hover {\n",
              "      background-color: #434B5C;\n",
              "      box-shadow: 0px 1px 3px 1px rgba(0, 0, 0, 0.15);\n",
              "      filter: drop-shadow(0px 1px 2px rgba(0, 0, 0, 0.3));\n",
              "      fill: #FFFFFF;\n",
              "    }\n",
              "  </style>\n",
              "\n",
              "    <script>\n",
              "      const buttonEl =\n",
              "        document.querySelector('#df-0a539c65-9955-4e91-aa52-08b3ac823831 button.colab-df-convert');\n",
              "      buttonEl.style.display =\n",
              "        google.colab.kernel.accessAllowed ? 'block' : 'none';\n",
              "\n",
              "      async function convertToInteractive(key) {\n",
              "        const element = document.querySelector('#df-0a539c65-9955-4e91-aa52-08b3ac823831');\n",
              "        const dataTable =\n",
              "          await google.colab.kernel.invokeFunction('convertToInteractive',\n",
              "                                                    [key], {});\n",
              "        if (!dataTable) return;\n",
              "\n",
              "        const docLinkHtml = 'Like what you see? Visit the ' +\n",
              "          '<a target=\"_blank\" href=https://colab.research.google.com/notebooks/data_table.ipynb>data table notebook</a>'\n",
              "          + ' to learn more about interactive tables.';\n",
              "        element.innerHTML = '';\n",
              "        dataTable['output_type'] = 'display_data';\n",
              "        await google.colab.output.renderOutput(dataTable, element);\n",
              "        const docLink = document.createElement('div');\n",
              "        docLink.innerHTML = docLinkHtml;\n",
              "        element.appendChild(docLink);\n",
              "      }\n",
              "    </script>\n",
              "  </div>\n",
              "\n",
              "\n",
              "    <div id=\"df-752abbcc-3f18-456c-b11c-225a8904bfa2\">\n",
              "      <button class=\"colab-df-quickchart\" onclick=\"quickchart('df-752abbcc-3f18-456c-b11c-225a8904bfa2')\"\n",
              "                title=\"Suggest charts\"\n",
              "                style=\"display:none;\">\n",
              "\n",
              "<svg xmlns=\"http://www.w3.org/2000/svg\" height=\"24px\"viewBox=\"0 0 24 24\"\n",
              "     width=\"24px\">\n",
              "    <g>\n",
              "        <path d=\"M19 3H5c-1.1 0-2 .9-2 2v14c0 1.1.9 2 2 2h14c1.1 0 2-.9 2-2V5c0-1.1-.9-2-2-2zM9 17H7v-7h2v7zm4 0h-2V7h2v10zm4 0h-2v-4h2v4z\"/>\n",
              "    </g>\n",
              "</svg>\n",
              "      </button>\n",
              "\n",
              "<style>\n",
              "  .colab-df-quickchart {\n",
              "      --bg-color: #E8F0FE;\n",
              "      --fill-color: #1967D2;\n",
              "      --hover-bg-color: #E2EBFA;\n",
              "      --hover-fill-color: #174EA6;\n",
              "      --disabled-fill-color: #AAA;\n",
              "      --disabled-bg-color: #DDD;\n",
              "  }\n",
              "\n",
              "  [theme=dark] .colab-df-quickchart {\n",
              "      --bg-color: #3B4455;\n",
              "      --fill-color: #D2E3FC;\n",
              "      --hover-bg-color: #434B5C;\n",
              "      --hover-fill-color: #FFFFFF;\n",
              "      --disabled-bg-color: #3B4455;\n",
              "      --disabled-fill-color: #666;\n",
              "  }\n",
              "\n",
              "  .colab-df-quickchart {\n",
              "    background-color: var(--bg-color);\n",
              "    border: none;\n",
              "    border-radius: 50%;\n",
              "    cursor: pointer;\n",
              "    display: none;\n",
              "    fill: var(--fill-color);\n",
              "    height: 32px;\n",
              "    padding: 0;\n",
              "    width: 32px;\n",
              "  }\n",
              "\n",
              "  .colab-df-quickchart:hover {\n",
              "    background-color: var(--hover-bg-color);\n",
              "    box-shadow: 0 1px 2px rgba(60, 64, 67, 0.3), 0 1px 3px 1px rgba(60, 64, 67, 0.15);\n",
              "    fill: var(--button-hover-fill-color);\n",
              "  }\n",
              "\n",
              "  .colab-df-quickchart-complete:disabled,\n",
              "  .colab-df-quickchart-complete:disabled:hover {\n",
              "    background-color: var(--disabled-bg-color);\n",
              "    fill: var(--disabled-fill-color);\n",
              "    box-shadow: none;\n",
              "  }\n",
              "\n",
              "  .colab-df-spinner {\n",
              "    border: 2px solid var(--fill-color);\n",
              "    border-color: transparent;\n",
              "    border-bottom-color: var(--fill-color);\n",
              "    animation:\n",
              "      spin 1s steps(1) infinite;\n",
              "  }\n",
              "\n",
              "  @keyframes spin {\n",
              "    0% {\n",
              "      border-color: transparent;\n",
              "      border-bottom-color: var(--fill-color);\n",
              "      border-left-color: var(--fill-color);\n",
              "    }\n",
              "    20% {\n",
              "      border-color: transparent;\n",
              "      border-left-color: var(--fill-color);\n",
              "      border-top-color: var(--fill-color);\n",
              "    }\n",
              "    30% {\n",
              "      border-color: transparent;\n",
              "      border-left-color: var(--fill-color);\n",
              "      border-top-color: var(--fill-color);\n",
              "      border-right-color: var(--fill-color);\n",
              "    }\n",
              "    40% {\n",
              "      border-color: transparent;\n",
              "      border-right-color: var(--fill-color);\n",
              "      border-top-color: var(--fill-color);\n",
              "    }\n",
              "    60% {\n",
              "      border-color: transparent;\n",
              "      border-right-color: var(--fill-color);\n",
              "    }\n",
              "    80% {\n",
              "      border-color: transparent;\n",
              "      border-right-color: var(--fill-color);\n",
              "      border-bottom-color: var(--fill-color);\n",
              "    }\n",
              "    90% {\n",
              "      border-color: transparent;\n",
              "      border-bottom-color: var(--fill-color);\n",
              "    }\n",
              "  }\n",
              "</style>\n",
              "\n",
              "      <script>\n",
              "        async function quickchart(key) {\n",
              "          const quickchartButtonEl =\n",
              "            document.querySelector('#' + key + ' button');\n",
              "          quickchartButtonEl.disabled = true;  // To prevent multiple clicks.\n",
              "          quickchartButtonEl.classList.add('colab-df-spinner');\n",
              "          try {\n",
              "            const charts = await google.colab.kernel.invokeFunction(\n",
              "                'suggestCharts', [key], {});\n",
              "          } catch (error) {\n",
              "            console.error('Error during call to suggestCharts:', error);\n",
              "          }\n",
              "          quickchartButtonEl.classList.remove('colab-df-spinner');\n",
              "          quickchartButtonEl.classList.add('colab-df-quickchart-complete');\n",
              "        }\n",
              "        (() => {\n",
              "          let quickchartButtonEl =\n",
              "            document.querySelector('#df-752abbcc-3f18-456c-b11c-225a8904bfa2 button');\n",
              "          quickchartButtonEl.style.display =\n",
              "            google.colab.kernel.accessAllowed ? 'block' : 'none';\n",
              "        })();\n",
              "      </script>\n",
              "    </div>\n",
              "\n",
              "  <div id=\"id_6c1651fa-becf-4d81-b241-5cb03c7f540a\">\n",
              "    <style>\n",
              "      .colab-df-generate {\n",
              "        background-color: #E8F0FE;\n",
              "        border: none;\n",
              "        border-radius: 50%;\n",
              "        cursor: pointer;\n",
              "        display: none;\n",
              "        fill: #1967D2;\n",
              "        height: 32px;\n",
              "        padding: 0 0 0 0;\n",
              "        width: 32px;\n",
              "      }\n",
              "\n",
              "      .colab-df-generate:hover {\n",
              "        background-color: #E2EBFA;\n",
              "        box-shadow: 0px 1px 2px rgba(60, 64, 67, 0.3), 0px 1px 3px 1px rgba(60, 64, 67, 0.15);\n",
              "        fill: #174EA6;\n",
              "      }\n",
              "\n",
              "      [theme=dark] .colab-df-generate {\n",
              "        background-color: #3B4455;\n",
              "        fill: #D2E3FC;\n",
              "      }\n",
              "\n",
              "      [theme=dark] .colab-df-generate:hover {\n",
              "        background-color: #434B5C;\n",
              "        box-shadow: 0px 1px 3px 1px rgba(0, 0, 0, 0.15);\n",
              "        filter: drop-shadow(0px 1px 2px rgba(0, 0, 0, 0.3));\n",
              "        fill: #FFFFFF;\n",
              "      }\n",
              "    </style>\n",
              "    <button class=\"colab-df-generate\" onclick=\"generateWithVariable('label_info')\"\n",
              "            title=\"Generate code using this dataframe.\"\n",
              "            style=\"display:none;\">\n",
              "\n",
              "  <svg xmlns=\"http://www.w3.org/2000/svg\" height=\"24px\"viewBox=\"0 0 24 24\"\n",
              "       width=\"24px\">\n",
              "    <path d=\"M7,19H8.4L18.45,9,17,7.55,7,17.6ZM5,21V16.75L18.45,3.32a2,2,0,0,1,2.83,0l1.4,1.43a1.91,1.91,0,0,1,.58,1.4,1.91,1.91,0,0,1-.58,1.4L9.25,21ZM18.45,9,17,7.55Zm-12,3A5.31,5.31,0,0,0,4.9,8.1,5.31,5.31,0,0,0,1,6.5,5.31,5.31,0,0,0,4.9,4.9,5.31,5.31,0,0,0,6.5,1,5.31,5.31,0,0,0,8.1,4.9,5.31,5.31,0,0,0,12,6.5,5.46,5.46,0,0,0,6.5,12Z\"/>\n",
              "  </svg>\n",
              "    </button>\n",
              "    <script>\n",
              "      (() => {\n",
              "      const buttonEl =\n",
              "        document.querySelector('#id_6c1651fa-becf-4d81-b241-5cb03c7f540a button.colab-df-generate');\n",
              "      buttonEl.style.display =\n",
              "        google.colab.kernel.accessAllowed ? 'block' : 'none';\n",
              "\n",
              "      buttonEl.onclick = () => {\n",
              "        google.colab.notebook.generateWithVariable('label_info');\n",
              "      }\n",
              "      })();\n",
              "    </script>\n",
              "  </div>\n",
              "\n",
              "    </div>\n",
              "  </div>\n"
            ],
            "application/vnd.google.colaboratory.intrinsic+json": {
              "type": "dataframe",
              "variable_name": "label_info",
              "summary": "{\n  \"name\": \"label_info\",\n  \"rows\": 2406,\n  \"fields\": [\n    {\n      \"column\": \"label\",\n      \"properties\": {\n        \"dtype\": \"number\",\n        \"std\": 2,\n        \"min\": 0,\n        \"max\": 9,\n        \"num_unique_values\": 10,\n        \"samples\": [\n          3,\n          7,\n          6\n        ],\n        \"semantic_type\": \"\",\n        \"description\": \"\"\n      }\n    },\n    {\n      \"column\": \"noisy\",\n      \"properties\": {\n        \"dtype\": \"boolean\",\n        \"num_unique_values\": 2,\n        \"samples\": [\n          true,\n          false\n        ],\n        \"semantic_type\": \"\",\n        \"description\": \"\"\n      }\n    }\n  ]\n}"
            }
          },
          "metadata": {},
          "execution_count": 26
        }
      ]
    },
    {
      "cell_type": "code",
      "source": [
        "label_info.to_parquet('label_info.parquet')"
      ],
      "metadata": {
        "id": "yRY2HeK270xS"
      },
      "execution_count": 28,
      "outputs": []
    }
  ]
}